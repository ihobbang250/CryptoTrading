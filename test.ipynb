{
 "cells": [
  {
   "cell_type": "code",
   "execution_count": 1,
   "metadata": {},
   "outputs": [
    {
     "name": "stdout",
     "output_type": "stream",
     "text": [
      "b'{\"status\":\"0000\",\"data\":{\"opening_price\":\"21552000\",\"closing_price\":\"21591000\",\"min_price\":\"21514000\",\"max_price\":\"21622000\",\"units_traded\":\"1252.56328232\",\"acc_trade_value\":\"27005135660.7933\",\"prev_closing_price\":\"21553000\",\"units_traded_24H\":\"1692.35510316\",\"acc_trade_value_24H\":\"36473396179.4634\",\"fluctate_24H\":\"56000\",\"fluctate_rate_24H\":\"0.26\",\"date\":\"1673167504405\"}}'\n"
     ]
    }
   ],
   "source": [
    "import requests \n",
    "\n",
    "resp = requests.get(\"https://api.bithumb.com/public/ticker/BTC\")\n",
    "\n",
    "print(resp.content)"
   ]
  },
  {
   "cell_type": "code",
   "execution_count": 1,
   "metadata": {},
   "outputs": [
    {
     "data": {
      "text/plain": [
       "0"
      ]
     },
     "execution_count": 1,
     "metadata": {},
     "output_type": "execute_result"
    }
   ],
   "source": [
    "import sys\n",
    "from PyQt5.QtWidgets import *\n",
    "from PyQt5.QtGui import *\n",
    "\n",
    "class MyWindow(QMainWindow):\n",
    "    def __init__(self):\n",
    "        super().__init__()\n",
    "        self.setGeometry(100, 200, 300, 200)\n",
    "        self.setWindowTitle(\"Trading Program\")\n",
    "        self.setWindowIcon(QIcon(\"icon.png\"))\n",
    "        \n",
    "app = QApplication(sys.argv)\n",
    "window = MyWindow()\n",
    "window.show()\n",
    "app.exec_()"
   ]
  },
  {
   "cell_type": "code",
   "execution_count": 24,
   "metadata": {},
   "outputs": [
    {
     "name": "stdout",
     "output_type": "stream",
     "text": [
      "-279\n"
     ]
    }
   ],
   "source": [
    "import requests\n",
    "from bs4 import BeautifulSoup\n",
    "\n",
    "url = \"https://finance.naver.com/item/main.nhn?code=000220#\"\n",
    "res = requests.get(url)\n",
    "html = res.text\n",
    "\n",
    "soup = BeautifulSoup(html, \"html.parser\")\n",
    "tags= soup.select(\"#_eps\")\n",
    "tag = tags[0]\n",
    "print(tag.next)"
   ]
  }
 ],
 "metadata": {
  "kernelspec": {
   "display_name": "main",
   "language": "python",
   "name": "python3"
  },
  "language_info": {
   "codemirror_mode": {
    "name": "ipython",
    "version": 3
   },
   "file_extension": ".py",
   "mimetype": "text/x-python",
   "name": "python",
   "nbconvert_exporter": "python",
   "pygments_lexer": "ipython3",
   "version": "3.10.8 | packaged by conda-forge | (main, Nov 24 2022, 14:07:00) [MSC v.1916 64 bit (AMD64)]"
  },
  "orig_nbformat": 4,
  "vscode": {
   "interpreter": {
    "hash": "2df62e60ab6b065ed485e2ad2e36848cb78a62198b8dd6aa1e15eb825917756a"
   }
  }
 },
 "nbformat": 4,
 "nbformat_minor": 2
}
