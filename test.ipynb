{
 "cells": [
  {
   "cell_type": "code",
   "execution_count": 1,
   "metadata": {},
   "outputs": [
    {
     "data": {
      "text/plain": [
       "0"
      ]
     },
     "execution_count": 1,
     "metadata": {},
     "output_type": "execute_result"
    }
   ],
   "source": [
    "#PyQT Example\n",
    "import sys\n",
    "from PyQt5.QtWidgets import *\n",
    "from PyQt5.QtGui import *\n",
    "\n",
    "class MyWindow(QMainWindow):\n",
    "    def __init__(self):\n",
    "        super().__init__()\n",
    "        self.setGeometry(100, 200, 300, 200)\n",
    "        self.setWindowTitle(\"Trading Program\")\n",
    "        self.setWindowIcon(QIcon(\"icon.png\"))\n",
    "        \n",
    "app = QApplication(sys.argv)\n",
    "window = MyWindow()\n",
    "window.show()\n",
    "app.exec_()"
   ]
  },
  {
   "cell_type": "code",
   "execution_count": 29,
   "metadata": {},
   "outputs": [
    {
     "name": "stdout",
     "output_type": "stream",
     "text": [
      "82.20\n"
     ]
    }
   ],
   "source": [
    "#Web Crawling Examples\n",
    "import requests\n",
    "from bs4 import BeautifulSoup\n",
    "\n",
    "url = \"https://finance.naver.com/item/main.nhn?code=000220#\"\n",
    "res = requests.get(url)\n",
    "html = res.text\n",
    "\n",
    "soup = BeautifulSoup(html, \"html.parser\")\n",
    "tags = soup.select(\"#tab_con1 > div:nth-child(6) > table > tr.strong > td > em\") #selector copy\n",
    "for tag in tags:\n",
    "    print(tag.text)"
   ]
  },
  {
   "cell_type": "code",
   "execution_count": 35,
   "metadata": {},
   "outputs": [
    {
     "name": "stdout",
     "output_type": "stream",
     "text": [
      "2023-01-09 19:24:35.851000\n"
     ]
    }
   ],
   "source": [
    "#WebAPI Examples\n",
    "import requests \n",
    "import datetime\n",
    "\n",
    "resp = requests.get(\"https://api.korbit.co.kr/v1/ticker/detailed?currency_pair=btc_krw\")\n",
    "\n",
    "btc = resp.json()\n",
    "timestamp = btc['timestamp']\n",
    "date = datetime.datetime.fromtimestamp(timestamp/1000)\n",
    "print(date)"
   ]
  }
 ],
 "metadata": {
  "kernelspec": {
   "display_name": "main",
   "language": "python",
   "name": "python3"
  },
  "language_info": {
   "codemirror_mode": {
    "name": "ipython",
    "version": 3
   },
   "file_extension": ".py",
   "mimetype": "text/x-python",
   "name": "python",
   "nbconvert_exporter": "python",
   "pygments_lexer": "ipython3",
   "version": "3.10.8 | packaged by conda-forge | (main, Nov 24 2022, 14:07:00) [MSC v.1916 64 bit (AMD64)]"
  },
  "orig_nbformat": 4,
  "vscode": {
   "interpreter": {
    "hash": "088249665a81e93c8036df710d5b8cf66018793aa44d5d95f913d7290e7bc9d8"
   }
  }
 },
 "nbformat": 4,
 "nbformat_minor": 2
}
